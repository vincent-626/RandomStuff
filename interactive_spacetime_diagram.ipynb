{
 "cells": [
  {
   "cell_type": "code",
   "execution_count": 1,
   "metadata": {},
   "outputs": [
    {
     "data": {
      "application/vnd.jupyter.widget-view+json": {
       "model_id": "c8c060664e50422981f6f6553ef32a16",
       "version_major": 2,
       "version_minor": 0
      },
      "text/plain": [
       "interactive(children=(FloatSlider(value=0.5, description='beta', max=0.9999, step=0.0001), Output()), _dom_cla…"
      ]
     },
     "metadata": {},
     "output_type": "display_data"
    },
    {
     "data": {
      "text/plain": [
       "<function __main__.plotting(beta)>"
      ]
     },
     "execution_count": 1,
     "metadata": {},
     "output_type": "execute_result"
    }
   ],
   "source": [
    "import numpy as np\n",
    "from matplotlib import pyplot as plt\n",
    "import ipywidgets as wg\n",
    "\n",
    "c = 3*10**8\n",
    "\n",
    "def plotting(beta):\n",
    "    gamma = (1-beta**2)**(-1/2)\n",
    "    x = np.arange(0, 10, 0.01)\n",
    "    t =  x/c\n",
    "    u = beta*c\n",
    "    x1 = u*t\n",
    "    ct1 = beta*x\n",
    "    plt.style.use('ggplot')\n",
    "    plt.plot(x, x, label='v=c')\n",
    "    plt.plot(x, x1, label='x\\'')\n",
    "    plt.plot(ct1, c*t, label='ct\\'')\n",
    "    plt.xlabel('x')\n",
    "    plt.ylabel('ct')\n",
    "    plt.title('Space-time Diagram')\n",
    "    plt.legend()\n",
    "    plt.tight_layout()\n",
    "    plt.show()\n",
    "    \n",
    "beta_slide = wg.FloatSlider(value=0.5, min=0.0000, max=0.9999, step=0.0001)\n",
    "wg.interact(plotting, beta=beta_slide)"
   ]
  }
 ],
 "metadata": {
  "kernelspec": {
   "display_name": "Python 3.10.2 64-bit",
   "language": "python",
   "name": "python3"
  },
  "language_info": {
   "codemirror_mode": {
    "name": "ipython",
    "version": 3
   },
   "file_extension": ".py",
   "mimetype": "text/x-python",
   "name": "python",
   "nbconvert_exporter": "python",
   "pygments_lexer": "ipython3",
   "version": "3.10.2"
  },
  "vscode": {
   "interpreter": {
    "hash": "480dc36642c207d483853200507fc8946c85772a15dffc7374520e8a4a2e6f57"
   }
  }
 },
 "nbformat": 4,
 "nbformat_minor": 4
}
